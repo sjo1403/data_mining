{
 "cells": [
  {
   "cell_type": "code",
   "execution_count": null,
   "id": "febab758-1238-47f0-90ec-fad794b6582e",
   "metadata": {
    "tags": []
   },
   "outputs": [],
   "source": [
    "# suppress warnings\n",
    "import warnings\n",
    "warnings.filterwarnings('ignore')"
   ]
  },
  {
   "cell_type": "code",
   "execution_count": null,
   "id": "041b0e24-fd46-4107-838e-61f6bc907610",
   "metadata": {
    "tags": []
   },
   "outputs": [],
   "source": [
    "# read churn data into DataFrame using pandas\n",
    "\n",
    "# Title: panda-dev/pandas\n",
    "# Author: The pandas development team\n",
    "# Date: 2023\n",
    "# Code Version: latest\n",
    "# Availability: https://doi.org/10.5281/zenodo.7741580\n",
    "\n",
    "import pandas as pd\n",
    "\n",
    "df = pd.read_csv('source_output/churn_clean.csv', header='infer')"
   ]
  },
  {
   "cell_type": "code",
   "execution_count": null,
   "id": "f3bc1324-b9b7-4331-af7d-47c67a22f437",
   "metadata": {
    "tags": []
   },
   "outputs": [],
   "source": [
    "# select relevant variables\n",
    "df = df[['Area',\n",
    "        'Children',\n",
    "        'Age',\n",
    "        'Income',\n",
    "        'Marital',\n",
    "        'Gender',\n",
    "        'Email',\n",
    "        'Contract',\n",
    "        'Port_modem',\n",
    "        'Tablet',\n",
    "        'InternetService',\n",
    "        'Phone',\n",
    "        'Multiple',\n",
    "        'OnlineSecurity',\n",
    "        'OnlineBackup',\n",
    "        'DeviceProtection',\n",
    "        'TechSupport',\n",
    "        'StreamingTV',\n",
    "        'StreamingMovies',\n",
    "        'PaperlessBilling',\n",
    "        'PaymentMethod',\n",
    "        'Tenure',\n",
    "        'MonthlyCharge',\n",
    "        'Bandwidth_GB_Year',\n",
    "        'Churn']]"
   ]
  },
  {
   "cell_type": "code",
   "execution_count": null,
   "id": "d8b123c9-117d-4d23-9fa0-00263cc1828a",
   "metadata": {
    "tags": []
   },
   "outputs": [],
   "source": [
    "df.head()"
   ]
  },
  {
   "cell_type": "code",
   "execution_count": null,
   "id": "b68951f9-ce75-4268-aaa2-cbfd9c5675c4",
   "metadata": {
    "tags": []
   },
   "outputs": [],
   "source": [
    "df.info()"
   ]
  },
  {
   "cell_type": "markdown",
   "id": "09118918-83b6-4fef-a52a-b326f49f7f8d",
   "metadata": {},
   "source": [
    "# Data Cleaning"
   ]
  },
  {
   "cell_type": "markdown",
   "id": "51331fc8-519b-482d-8f30-d0eed6b51f0c",
   "metadata": {},
   "source": [
    "## Duplicates"
   ]
  },
  {
   "cell_type": "code",
   "execution_count": null,
   "id": "bc11a6b5-c0a8-470c-938c-98d113167b62",
   "metadata": {
    "tags": []
   },
   "outputs": [],
   "source": [
    "# check for duplication\n",
    "df[df.duplicated()]"
   ]
  },
  {
   "cell_type": "markdown",
   "id": "447e50d4-1c7a-45ca-9dcc-24af980dfa99",
   "metadata": {},
   "source": [
    "## Missing Values"
   ]
  },
  {
   "cell_type": "code",
   "execution_count": null,
   "id": "058aeb25-0ee9-4017-9220-d7b6ba00a47e",
   "metadata": {
    "tags": []
   },
   "outputs": [],
   "source": [
    "# check for missing values\n",
    "df.isnull().sum()"
   ]
  },
  {
   "cell_type": "markdown",
   "id": "f37954f6-fbb6-438d-bb01-96874bd4262c",
   "metadata": {},
   "source": [
    "## Outliers"
   ]
  },
  {
   "cell_type": "code",
   "execution_count": null,
   "id": "951609ec-f0f9-4cbd-92f8-3c356c78520c",
   "metadata": {
    "tags": []
   },
   "outputs": [],
   "source": [
    "# check for outliers\n",
    "# import scipy.stats to calculate z-scores\n",
    "\n",
    "# Title: scipy/scipy: Scipy\n",
    "# Author: Gommers, et al.\n",
    "# Date: 2023\n",
    "# Code Version: latest\n",
    "# Availability: https://doi.org/10.5281/zenodo.7655153\n",
    "\n",
    "from scipy import stats\n",
    "\n",
    "outliers = df.select_dtypes(include='number')\n",
    "outliers = stats.zscore(outliers)\n",
    "outliers[outliers.abs() >= 3].count()"
   ]
  },
  {
   "cell_type": "code",
   "execution_count": null,
   "id": "289a4c45-1545-48a4-9d84-fc8928512617",
   "metadata": {
    "tags": []
   },
   "outputs": [],
   "source": [
    "# children, income, and email features contain outliers\n",
    "Children_outliers = outliers[outliers.Children.abs() >= 3].index\n",
    "Income_outliers = outliers[outliers.Income.abs() >= 3].index\n",
    "Email_outliers = outliers[outliers.Email.abs() >= 3].index"
   ]
  },
  {
   "cell_type": "code",
   "execution_count": null,
   "id": "34847c52-3731-44fc-ba24-9e9c2f1aa11d",
   "metadata": {
    "tags": []
   },
   "outputs": [],
   "source": [
    "# replace outlier values with median values\n",
    "df.Children.iloc[Children_outliers] = df.Children.median()\n",
    "df.Income.iloc[Income_outliers] = df.Income.median()\n",
    "df.Email.iloc[Email_outliers] = df.Email.median()"
   ]
  },
  {
   "cell_type": "markdown",
   "id": "0b578d2c-2c4c-4e83-9fd8-b9df084399c5",
   "metadata": {},
   "source": [
    "# Data Preparation"
   ]
  },
  {
   "cell_type": "markdown",
   "id": "8ce82da3-1394-42cc-a4fe-84d2f97acf5f",
   "metadata": {},
   "source": [
    "## Data Description: Categorical Variables"
   ]
  },
  {
   "cell_type": "code",
   "execution_count": null,
   "id": "b401b581-38fa-4a5c-820f-aa6f1c7f15d6",
   "metadata": {
    "tags": []
   },
   "outputs": [],
   "source": [
    "df.select_dtypes(exclude='number').describe()"
   ]
  },
  {
   "cell_type": "markdown",
   "id": "b1a1074b-714d-4ec9-90dc-4862330e2e22",
   "metadata": {},
   "source": [
    "## Data Description: Continuous Variables"
   ]
  },
  {
   "cell_type": "code",
   "execution_count": null,
   "id": "70bd7c2d-497d-4b35-88e0-e87746b2a4a0",
   "metadata": {
    "tags": []
   },
   "outputs": [],
   "source": [
    "df.select_dtypes(include='number').describe()"
   ]
  },
  {
   "cell_type": "markdown",
   "id": "7f82eae1-36fe-4548-b54a-d3bd6b688837",
   "metadata": {},
   "source": [
    "# Data Transformation"
   ]
  },
  {
   "cell_type": "markdown",
   "id": "2bd8a9e6-b77d-4712-9e74-5654658a8e36",
   "metadata": {},
   "source": [
    "## Data Transformation: Numerical Variables"
   ]
  },
  {
   "cell_type": "code",
   "execution_count": null,
   "id": "69eba111-4c60-4cac-8e57-f4da26abc164",
   "metadata": {
    "tags": []
   },
   "outputs": [],
   "source": [
    "# transform numerical variables to categorical variables\n",
    "df.Children = pd.cut(df['Children'].array,bins=[0,1,3,8],labels=['children_1', 'children_2', 'children_3'])\n",
    "df.Age = pd.cut(df['Age'].array,bins=[18,35,53,71,89],labels=['age_1', 'age_2', 'age_3', 'age_4'])\n",
    "df.Income = pd.cut(df['Income'].array,bins=[340,19200,33100,51700,124000],labels=['income_1', 'income_2', 'income_3', 'income_4'])\n",
    "df.Email = pd.cut(df['Email'].array,bins=[3,10,12,14,21],labels=['email_1', 'email_2', 'email_3', 'email_4'])\n",
    "df.Tenure = pd.cut(df['Tenure'].array,bins=[1,8,35,61,71],labels=['tenure_1', 'tenure_2', 'tenure_3', 'tenure_4'])\n",
    "df.MonthlyCharge = pd.cut(df['MonthlyCharge'].array,bins=[79,139,167,200,290],labels=['charge_1', 'charge_2', 'charge_3', 'charge_4'])\n",
    "df.Bandwidth_GB_Year = pd.cut(df['Bandwidth_GB_Year'].array,bins=[150,1230,3280,5590,7160],labels=['bw_1', 'bw_2', 'bw_3', 'bw_4'])                        "
   ]
  },
  {
   "cell_type": "markdown",
   "id": "b907df87-a40f-430b-bde2-586181c72e10",
   "metadata": {},
   "source": [
    "## Data Transformation: Categorical Variables"
   ]
  },
  {
   "cell_type": "code",
   "execution_count": null,
   "id": "45b1b1dd-7472-44ee-a9fd-ec0fbbdc3cf3",
   "metadata": {
    "tags": []
   },
   "outputs": [],
   "source": [
    "# perform nominal encoding\n",
    "df = pd.get_dummies(df, columns=['Area', \n",
    "                                 'Marital', \n",
    "                                 'Gender', \n",
    "                                 'InternetService', \n",
    "                                 'PaymentMethod',\n",
    "                                 'Bandwidth_GB_Year', \n",
    "                                 'MonthlyCharge', \n",
    "                                 'Tenure', \n",
    "                                 'Email', \n",
    "                                 'Income', \n",
    "                                 'Age', \n",
    "                                 'Children',\n",
    "                                 'Contract'])"
   ]
  },
  {
   "cell_type": "code",
   "execution_count": null,
   "id": "15dfe4d2-bc4d-43b8-99b3-16cd1a1a201e",
   "metadata": {
    "tags": []
   },
   "outputs": [],
   "source": [
    "# perform ordinal encoding\n",
    "df.replace('No', 0, inplace=True)\n",
    "df.replace('Yes', 1, inplace=True)"
   ]
  },
  {
   "cell_type": "code",
   "execution_count": null,
   "id": "556a954c-5b7c-4ec1-94d6-cddcb1177879",
   "metadata": {
    "tags": []
   },
   "outputs": [],
   "source": [
    "df.head(5)"
   ]
  },
  {
   "cell_type": "markdown",
   "id": "caf48d56-4843-449e-8ab0-6355351a17b7",
   "metadata": {},
   "source": [
    "## Output"
   ]
  },
  {
   "cell_type": "code",
   "execution_count": null,
   "id": "18ce9035-6f3b-4115-9b5b-43f84848c7b8",
   "metadata": {
    "tags": []
   },
   "outputs": [],
   "source": [
    "df.to_csv(\"source_output/churn_prepped1.csv\")"
   ]
  },
  {
   "cell_type": "code",
   "execution_count": null,
   "id": "cbf53c01-b158-4103-8aca-18b9568177bb",
   "metadata": {},
   "outputs": [],
   "source": []
  }
 ],
 "metadata": {
  "kernelspec": {
   "display_name": "myenv",
   "language": "python",
   "name": "myenv"
  },
  "language_info": {
   "codemirror_mode": {
    "name": "ipython",
    "version": 3
   },
   "file_extension": ".py",
   "mimetype": "text/x-python",
   "name": "python",
   "nbconvert_exporter": "python",
   "pygments_lexer": "ipython3",
   "version": "3.9.15"
  }
 },
 "nbformat": 4,
 "nbformat_minor": 5
}
